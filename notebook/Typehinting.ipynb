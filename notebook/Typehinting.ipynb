{
 "cells": [
  {
   "cell_type": "code",
   "execution_count": 2,
   "id": "eacb0bf6",
   "metadata": {},
   "outputs": [
    {
     "data": {
      "text/plain": [
       "'Hello, World'"
      ]
     },
     "execution_count": 2,
     "metadata": {},
     "output_type": "execute_result"
    }
   ],
   "source": [
    "def greet(name: str) -> str:\n",
    "    return \"Hello, \" + name\n",
    "greet(\"World\")"
   ]
  },
  {
   "cell_type": "code",
   "execution_count": 3,
   "id": "6c3192f1",
   "metadata": {},
   "outputs": [
    {
     "name": "stdout",
     "output_type": "stream",
     "text": [
      "6\n"
     ]
    }
   ],
   "source": [
    "from typing import List\n",
    "\n",
    "def total(numbers: List[int]) -> int:\n",
    "    return sum(numbers)\n",
    "\n",
    "print(total([1, 2, 3]))  # Works!"
   ]
  },
  {
   "cell_type": "code",
   "execution_count": 5,
   "id": "708acd2a",
   "metadata": {},
   "outputs": [
    {
     "name": "stdout",
     "output_type": "stream",
     "text": [
      "95\n"
     ]
    }
   ],
   "source": [
    "from typing import Dict\n",
    "\n",
    "student_scores: Dict[str, int] = {\n",
    "    \"Alice\": 95,\n",
    "    \"Bob\": 85\n",
    "}\n",
    "print(student_scores[\"Alice\"])  # Works!"
   ]
  },
  {
   "cell_type": "markdown",
   "id": "c2848c82",
   "metadata": {},
   "source": [
    "Tuple – A fixed-size collection of different types"
   ]
  },
  {
   "cell_type": "code",
   "execution_count": 6,
   "id": "78302471",
   "metadata": {},
   "outputs": [
    {
     "name": "stdout",
     "output_type": "stream",
     "text": [
      "Alice\n"
     ]
    }
   ],
   "source": [
    "from typing import Tuple\n",
    "\n",
    "person: Tuple[str, int] = (\"Alice\", 14)\n",
    "print(person[0])  # Works!"
   ]
  },
  {
   "cell_type": "markdown",
   "id": "a8e9b544",
   "metadata": {},
   "source": [
    "❓ Optional – Something that might not exist"
   ]
  },
  {
   "cell_type": "code",
   "execution_count": 7,
   "id": "48609ac5",
   "metadata": {},
   "outputs": [
    {
     "name": "stdout",
     "output_type": "stream",
     "text": [
      "None\n"
     ]
    }
   ],
   "source": [
    "from typing import Optional\n",
    "\n",
    "def find_student(name: str) -> Optional[str]:\n",
    "    if name == \"Alice\":\n",
    "        return \"Found!\"\n",
    "    else:\n",
    "        return None\n",
    "\n",
    "result = find_student(\"Bob\")\n",
    "print(result)  # Works!"
   ]
  },
  {
   "cell_type": "markdown",
   "id": "8380eedd",
   "metadata": {},
   "source": [
    "⚖️ Union – Choose between two types"
   ]
  },
  {
   "cell_type": "code",
   "execution_count": 8,
   "id": "52bb685c",
   "metadata": {},
   "outputs": [
    {
     "name": "stdout",
     "output_type": "stream",
     "text": [
      "2.5\n",
      "Can't divide by zero\n"
     ]
    },
    {
     "ename": "TypeError",
     "evalue": "unsupported operand type(s) for /: 'int' and 'str'",
     "output_type": "error",
     "traceback": [
      "\u001b[1;31m---------------------------------------------------------------------------\u001b[0m",
      "\u001b[1;31mTypeError\u001b[0m                                 Traceback (most recent call last)",
      "Cell \u001b[1;32mIn[8], line 10\u001b[0m\n\u001b[0;32m      8\u001b[0m \u001b[38;5;28mprint\u001b[39m(divide(\u001b[38;5;241m5\u001b[39m, \u001b[38;5;241m2\u001b[39m))  \u001b[38;5;66;03m# Works!\u001b[39;00m\n\u001b[0;32m      9\u001b[0m \u001b[38;5;28mprint\u001b[39m(divide(\u001b[38;5;241m5\u001b[39m, \u001b[38;5;241m0\u001b[39m))  \u001b[38;5;66;03m# Works!\u001b[39;00m\n\u001b[1;32m---> 10\u001b[0m \u001b[38;5;28mprint\u001b[39m(\u001b[43mdivide\u001b[49m\u001b[43m(\u001b[49m\u001b[38;5;241;43m5\u001b[39;49m\u001b[43m,\u001b[49m\u001b[43m \u001b[49m\u001b[38;5;124;43m\"\u001b[39;49m\u001b[38;5;124;43mHello\u001b[39;49m\u001b[38;5;124;43m\"\u001b[39;49m\u001b[43m)\u001b[49m)  \u001b[38;5;66;03m# Doesn't work!\u001b[39;00m\n",
      "Cell \u001b[1;32mIn[8], line 6\u001b[0m, in \u001b[0;36mdivide\u001b[1;34m(a, b)\u001b[0m\n\u001b[0;32m      4\u001b[0m \u001b[38;5;28;01mif\u001b[39;00m b \u001b[38;5;241m==\u001b[39m \u001b[38;5;241m0\u001b[39m:\n\u001b[0;32m      5\u001b[0m     \u001b[38;5;28;01mreturn\u001b[39;00m \u001b[38;5;124m\"\u001b[39m\u001b[38;5;124mCan\u001b[39m\u001b[38;5;124m'\u001b[39m\u001b[38;5;124mt divide by zero\u001b[39m\u001b[38;5;124m\"\u001b[39m\n\u001b[1;32m----> 6\u001b[0m \u001b[38;5;28;01mreturn\u001b[39;00m \u001b[43ma\u001b[49m\u001b[43m \u001b[49m\u001b[38;5;241;43m/\u001b[39;49m\u001b[43m \u001b[49m\u001b[43mb\u001b[49m\n",
      "\u001b[1;31mTypeError\u001b[0m: unsupported operand type(s) for /: 'int' and 'str'"
     ]
    }
   ],
   "source": [
    "from typing import Union\n",
    "\n",
    "def divide(a: float, b: float) -> Union[float, str]:\n",
    "    if b == 0:\n",
    "        return \"Can't divide by zero\"\n",
    "    return a / b\n",
    "\n",
    "print(divide(5, 2))  # Works!\n",
    "print(divide(5, 0))  # Works!\n",
    "print(divide(5, \"Hello\"))  # Doesn't work!"
   ]
  },
  {
   "cell_type": "markdown",
   "id": "5574a251",
   "metadata": {},
   "source": [
    "TypedDict – Labeled Dictionaries\n",
    "Sometimes you want a dictionary with specific keys and types."
   ]
  },
  {
   "cell_type": "code",
   "execution_count": 9,
   "id": "1ff7a6b9",
   "metadata": {},
   "outputs": [
    {
     "name": "stdout",
     "output_type": "stream",
     "text": [
      "Sarah\n"
     ]
    }
   ],
   "source": [
    "from typing import TypedDict\n",
    "\n",
    "class Student(TypedDict):\n",
    "    name: str\n",
    "    age: int\n",
    "    is_honors: bool\n",
    "\n",
    "sarah: Student = {\n",
    "    \"name\": \"Sarah\",\n",
    "    \"age\": 16,\n",
    "    \"is_honors\": True\n",
    "}\n",
    "print(sarah[\"name\"])  # Works!"
   ]
  },
  {
   "cell_type": "code",
   "execution_count": 11,
   "id": "e4914a91",
   "metadata": {},
   "outputs": [
    {
     "name": "stdout",
     "output_type": "stream",
     "text": [
      "123\n",
      "456\n"
     ]
    }
   ],
   "source": [
    "from typing import NewType\n",
    "\n",
    "StudentID = NewType('StudentID', int)\n",
    "\n",
    "id1: StudentID = StudentID(123)\n",
    "id2: StudentID = StudentID(456)\n",
    "print(id1)  # Works!\n",
    "print(id2)  # Works!\n",
    "\n",
    "# id3: StudentID = 789   <-- Not allowed directly"
   ]
  },
  {
   "cell_type": "code",
   "execution_count": null,
   "id": "0b2ddcde",
   "metadata": {},
   "outputs": [],
   "source": [
    "def add_numbers(a: int, b: int) -> int:\n",
    "    return a + b\n",
    "\n",
    "add_numbers(\"hello\", 5)  # ❌ mypy says: \"Wait! 'hello' is not an int!\""
   ]
  },
  {
   "cell_type": "markdown",
   "id": "e214fab6",
   "metadata": {},
   "source": [
    "Protocol – Magic Spell Contracts\n",
    "Imagine you're hiring a wizard who must know certain spells. That’s what a Protocol does — defines what methods a class must have."
   ]
  },
  {
   "cell_type": "code",
   "execution_count": 12,
   "id": "be1f9d4c",
   "metadata": {},
   "outputs": [
    {
     "name": "stdout",
     "output_type": "stream",
     "text": [
      "🐦 Flying!\n",
      "✈️ Flying!\n"
     ]
    }
   ],
   "source": [
    "from typing import Protocol\n",
    "\n",
    "class Flyable(Protocol):\n",
    "    def fly(self) -> None:\n",
    "        ...\n",
    "\n",
    "class Bird:\n",
    "    def fly(self):\n",
    "        print(\"🐦 Flying!\")\n",
    "\n",
    "class Plane:\n",
    "    def fly(self):\n",
    "        print(\"✈️ Flying!\")\n",
    "\n",
    "def make_fly(obj: Flyable):\n",
    "    obj.fly()\n",
    "\n",
    "make_fly(Bird())\n",
    "make_fly(Plane())"
   ]
  },
  {
   "cell_type": "markdown",
   "id": "f2d6906d",
   "metadata": {},
   "source": [
    "This means:\n",
    "\n",
    "Any class that wants to be considered a Flyable must have a fly() method.\n",
    "This doesn’t do anything by itself — it’s just a rule (a type hint)."
   ]
  }
 ],
 "metadata": {
  "kernelspec": {
   "display_name": "venv",
   "language": "python",
   "name": "python3"
  },
  "language_info": {
   "codemirror_mode": {
    "name": "ipython",
    "version": 3
   },
   "file_extension": ".py",
   "mimetype": "text/x-python",
   "name": "python",
   "nbconvert_exporter": "python",
   "pygments_lexer": "ipython3",
   "version": "3.10.16"
  }
 },
 "nbformat": 4,
 "nbformat_minor": 5
}
