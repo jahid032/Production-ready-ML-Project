{
 "cells": [
  {
   "cell_type": "code",
   "execution_count": 1,
   "id": "9bd3f291",
   "metadata": {},
   "outputs": [],
   "source": [
    "##nced Object-Oriented Programming (OOP)\n",
    "# - Metaclasses- Abstract Base Classes (abc module)\n",
    "# - Multiple inheritance and MRO (Method Resolution Order)\n",
    "# - Operator overloading (__add__, __str__, etc.)\n",
    "# - Descriptors and properties"
   ]
  },
  {
   "cell_type": "markdown",
   "id": "a6da6c66",
   "metadata": {},
   "source": [
    "What is a Metaclass?\n",
    "A metaclass is \"the class of a class\".\n",
    "It defines how a class is created — like setting rules for all blueprints.\n",
    "\n",
    "Every time you define a class like this:"
   ]
  },
  {
   "cell_type": "code",
   "execution_count": null,
   "id": "e733ea8f",
   "metadata": {},
   "outputs": [],
   "source": [
    "class Starship:\n",
    "    pass"
   ]
  },
  {
   "cell_type": "markdown",
   "id": "5605b169",
   "metadata": {},
   "source": [
    "# Structure of a Metaclass"
   ]
  },
  {
   "cell_type": "code",
   "execution_count": 2,
   "id": "5f268f49",
   "metadata": {},
   "outputs": [],
   "source": [
    "class MyMeta(type):\n",
    "    def __new__(cls, name, bases, attrs):\n",
    "        # You can modify the class before it's created\n",
    "        print(f\"Creating class {name}\")\n",
    "        return super().__new__(cls, name, bases, attrs)"
   ]
  },
  {
   "cell_type": "code",
   "execution_count": 3,
   "id": "8a45018e",
   "metadata": {},
   "outputs": [
    {
     "name": "stdout",
     "output_type": "stream",
     "text": [
      "Creating class MyClass\n"
     ]
    }
   ],
   "source": [
    "class MyClass(metaclass=MyMeta):\n",
    "    pass"
   ]
  },
  {
   "cell_type": "code",
   "execution_count": 4,
   "id": "810443f9",
   "metadata": {},
   "outputs": [],
   "source": [
    "class StarshipMeta(type):\n",
    "    def __new__(cls, name, bases, attrs):\n",
    "        print(f\"Blueprint ship {name}\")\n",
    "        if 'launch' not in attrs:\n",
    "            raise TypeError(\"Starship must have a launch method\")\n",
    "        return type.__new__(cls, name, bases, attrs)"
   ]
  },
  {
   "cell_type": "code",
   "execution_count": 5,
   "id": "7bb86c36",
   "metadata": {},
   "outputs": [
    {
     "name": "stdout",
     "output_type": "stream",
     "text": [
      "Blueprint ship Starship\n"
     ]
    }
   ],
   "source": [
    "class Starship(metaclass=StarshipMeta):\n",
    "    def launch(self):\n",
    "        print(\"Launch sequence initiated\")"
   ]
  },
  {
   "cell_type": "code",
   "execution_count": 8,
   "id": "1494f65d",
   "metadata": {},
   "outputs": [
    {
     "name": "stdout",
     "output_type": "stream",
     "text": [
      "Launch sequence initiated\n"
     ]
    }
   ],
   "source": [
    "obj = Starship()\n",
    "obj.launch()    "
   ]
  },
  {
   "cell_type": "code",
   "execution_count": 10,
   "id": "6e002b56",
   "metadata": {},
   "outputs": [
    {
     "name": "stdout",
     "output_type": "stream",
     "text": [
      "Blueprint ship Starship\n"
     ]
    },
    {
     "ename": "TypeError",
     "evalue": "Starship must have a launch method",
     "output_type": "error",
     "traceback": [
      "\u001b[1;31m---------------------------------------------------------------------------\u001b[0m",
      "\u001b[1;31mTypeError\u001b[0m                                 Traceback (most recent call last)",
      "Cell \u001b[1;32mIn[10], line 1\u001b[0m\n\u001b[1;32m----> 1\u001b[0m \u001b[38;5;28;01mclass\u001b[39;00m\u001b[38;5;250m \u001b[39m\u001b[38;5;21;01mStarship\u001b[39;00m(metaclass\u001b[38;5;241m=\u001b[39mStarshipMeta):\n\u001b[0;32m      2\u001b[0m     \u001b[38;5;28;01mdef\u001b[39;00m\u001b[38;5;250m \u001b[39m\u001b[38;5;21mLaunch\u001b[39m(\u001b[38;5;28mself\u001b[39m):\n\u001b[0;32m      3\u001b[0m         \u001b[38;5;28mprint\u001b[39m(\u001b[38;5;124m\"\u001b[39m\u001b[38;5;124mLaunch sequence initiated\u001b[39m\u001b[38;5;124m\"\u001b[39m)\n",
      "Cell \u001b[1;32mIn[4], line 5\u001b[0m, in \u001b[0;36mStarshipMeta.__new__\u001b[1;34m(cls, name, bases, attrs)\u001b[0m\n\u001b[0;32m      3\u001b[0m \u001b[38;5;28mprint\u001b[39m(\u001b[38;5;124mf\u001b[39m\u001b[38;5;124m\"\u001b[39m\u001b[38;5;124mBlueprint ship \u001b[39m\u001b[38;5;132;01m{\u001b[39;00mname\u001b[38;5;132;01m}\u001b[39;00m\u001b[38;5;124m\"\u001b[39m)\n\u001b[0;32m      4\u001b[0m \u001b[38;5;28;01mif\u001b[39;00m \u001b[38;5;124m'\u001b[39m\u001b[38;5;124mlaunch\u001b[39m\u001b[38;5;124m'\u001b[39m \u001b[38;5;129;01mnot\u001b[39;00m \u001b[38;5;129;01min\u001b[39;00m attrs:\n\u001b[1;32m----> 5\u001b[0m     \u001b[38;5;28;01mraise\u001b[39;00m \u001b[38;5;167;01mTypeError\u001b[39;00m(\u001b[38;5;124m\"\u001b[39m\u001b[38;5;124mStarship must have a launch method\u001b[39m\u001b[38;5;124m\"\u001b[39m)\n\u001b[0;32m      6\u001b[0m \u001b[38;5;28;01mreturn\u001b[39;00m \u001b[38;5;28mtype\u001b[39m\u001b[38;5;241m.\u001b[39m\u001b[38;5;21m__new__\u001b[39m(\u001b[38;5;28mcls\u001b[39m, name, bases, attrs)\n",
      "\u001b[1;31mTypeError\u001b[0m: Starship must have a launch method"
     ]
    }
   ],
   "source": [
    "class Starship(metaclass=StarshipMeta):\n",
    "    def Launch(self):\n",
    "        print(\"Launch sequence initiated\")\n"
   ]
  },
  {
   "cell_type": "code",
   "execution_count": 15,
   "id": "11bcecb7",
   "metadata": {},
   "outputs": [
    {
     "name": "stdout",
     "output_type": "stream",
     "text": [
      "active\n"
     ]
    }
   ],
   "source": [
    "class RobotMeta(type):\n",
    "    def __new__(cls, name, bases, attrs):\n",
    "        if 'name' not in attrs:\n",
    "            raise TypeError(\"Robots must have a name!\")\n",
    "        if 'status' not in attrs:\n",
    "            attrs['status'] = \"active\"\n",
    "        return super().__new__(cls, name, bases, attrs)\n",
    "\n",
    "class Robot(metaclass=RobotMeta):\n",
    "    def name(self):\n",
    "        return self._name   \n",
    "\n",
    "print(Robot.status)  "
   ]
  },
  {
   "cell_type": "markdown",
   "id": "522d9854",
   "metadata": {},
   "source": [
    "You are a junior engineer at the Galactic Starship Academy , where all cadets must design their own starships.\n",
    "\n",
    "But there's a problem:\n",
    "Some cadets are building ships that can't even launch or navigate properly!\n",
    "\n",
    "To solve this, the academy introduces Basic Rules for Every Ship :\n",
    "\n",
    "Must have a launch() method\n",
    "Must have a navigate(destination) method\n",
    "These rules are not tied to any specific type of ship — they apply to all ships , whether they're Fighters, Explorers, or Cargo Haulers.\n",
    "\n",
    "So the academy creates a template class called Starship that defines these rules. But you can’t build a ship just from the template — it’s too generic."
   ]
  },
  {
   "cell_type": "code",
   "execution_count": 16,
   "id": "280caae9",
   "metadata": {},
   "outputs": [],
   "source": [
    "from abc import ABC, abstractmethod\n",
    "\n",
    "class Starship(ABC):\n",
    "    @abstractmethod\n",
    "    def launch(self):\n",
    "        pass\n",
    "\n",
    "    @abstractmethod\n",
    "    def navigate(self, destination):\n",
    "        pass"
   ]
  },
  {
   "cell_type": "code",
   "execution_count": 17,
   "id": "b96dc82d",
   "metadata": {},
   "outputs": [],
   "source": [
    "# ✅ This one follows the rules\n",
    "class FighterShip(Starship):\n",
    "    def launch(self):\n",
    "        print(\"🛸 Fighter launching engines...\")\n",
    "\n",
    "    def navigate(self, destination):\n",
    "        print(f\"🎯 Navigating to {destination}\")"
   ]
  },
  {
   "cell_type": "code",
   "execution_count": 18,
   "id": "b16ba5a9",
   "metadata": {},
   "outputs": [],
   "source": [
    "# ❌ This one breaks the rules\n",
    "class BrokenShip(Starship):\n",
    "    def launch(self):\n",
    "        print(\"❌ Incomplete ship trying to launch...\")"
   ]
  },
  {
   "cell_type": "code",
   "execution_count": 19,
   "id": "a08f15ce",
   "metadata": {},
   "outputs": [
    {
     "name": "stdout",
     "output_type": "stream",
     "text": [
      "🛸 Fighter launching engines...\n",
      "🎯 Navigating to Mars\n"
     ]
    }
   ],
   "source": [
    "falcon = FighterShip()\n",
    "falcon.launch()\n",
    "falcon.navigate(\"Mars\")"
   ]
  },
  {
   "cell_type": "code",
   "execution_count": 20,
   "id": "ea9c1f79",
   "metadata": {},
   "outputs": [
    {
     "ename": "TypeError",
     "evalue": "Can't instantiate abstract class BrokenShip with abstract method navigate",
     "output_type": "error",
     "traceback": [
      "\u001b[1;31m---------------------------------------------------------------------------\u001b[0m",
      "\u001b[1;31mTypeError\u001b[0m                                 Traceback (most recent call last)",
      "Cell \u001b[1;32mIn[20], line 1\u001b[0m\n\u001b[1;32m----> 1\u001b[0m ghost \u001b[38;5;241m=\u001b[39m \u001b[43mBrokenShip\u001b[49m\u001b[43m(\u001b[49m\u001b[43m)\u001b[49m\n\u001b[0;32m      2\u001b[0m ghost\u001b[38;5;241m.\u001b[39mlaunch()\n",
      "\u001b[1;31mTypeError\u001b[0m: Can't instantiate abstract class BrokenShip with abstract method navigate"
     ]
    }
   ],
   "source": [
    "ghost = BrokenShip()\n",
    "ghost.launch()"
   ]
  },
  {
   "cell_type": "code",
   "execution_count": 21,
   "id": "bcdcb1ec",
   "metadata": {},
   "outputs": [],
   "source": [
    "from abc import ABC, abstractmethod\n",
    "\n",
    "class SpaceVehicle(ABC):\n",
    "    @abstractmethod\n",
    "    def takeoff(self):\n",
    "        pass\n",
    "\n",
    "    @abstractmethod\n",
    "    def land(self):\n",
    "        pass"
   ]
  },
  {
   "cell_type": "code",
   "execution_count": 22,
   "id": "729a9964",
   "metadata": {},
   "outputs": [],
   "source": [
    "class Shuttle(SpaceVehicle):\n",
    "    def takeoff(self):\n",
    "        print(\"🚀 Shuttle taking off...\")\n",
    "\n",
    "    def land(self):\n",
    "        print(\"🛫 Shuttle landing...\"   )"
   ]
  },
  {
   "cell_type": "markdown",
   "id": "bff04fb7",
   "metadata": {},
   "source": [
    "🧭 What is MRO? (Method Resolution Order)\n",
    "When a class inherits from multiple parents, Python uses a special rule to decide which parent’s method to run first .\n",
    "\n",
    "This rule is called Method Resolution Order (MRO) .\n",
    "\n",
    "Python uses the C3 Linearization Algorithm to determine this order — don’t worry about the math; just remember it gives us a clear path through the inheritance tree."
   ]
  },
  {
   "cell_type": "code",
   "execution_count": 23,
   "id": "148d7d4e",
   "metadata": {},
   "outputs": [],
   "source": [
    "class SpaceEngine:\n",
    "    def power_on(self):\n",
    "        print(\"🔋 Engine powered on\")\n",
    "\n",
    "class WeaponsSystem:\n",
    "    def power_on(self):\n",
    "        print(\"🎯 Weapon system armed\")\n",
    "\n",
    "class Starship(SpaceEngine, WeaponsSystem):\n",
    "    pass"
   ]
  },
  {
   "cell_type": "code",
   "execution_count": 24,
   "id": "3f8e6866",
   "metadata": {},
   "outputs": [
    {
     "name": "stdout",
     "output_type": "stream",
     "text": [
      "🔋 Engine powered on\n"
     ]
    }
   ],
   "source": [
    "s = Starship()\n",
    "s.power_on()"
   ]
  },
  {
   "cell_type": "code",
   "execution_count": 25,
   "id": "6be0555a",
   "metadata": {},
   "outputs": [
    {
     "name": "stdout",
     "output_type": "stream",
     "text": [
      "(<class '__main__.Starship'>, <class '__main__.SpaceEngine'>, <class '__main__.WeaponsSystem'>, <class 'object'>)\n"
     ]
    }
   ],
   "source": [
    "print(Starship.__mro__)"
   ]
  },
  {
   "cell_type": "code",
   "execution_count": 26,
   "id": "2419fcc1",
   "metadata": {},
   "outputs": [],
   "source": [
    "class Starship:\n",
    "    def __init__(self, name, power):\n",
    "        self.name = name\n",
    "        self.power = power"
   ]
  },
  {
   "cell_type": "markdown",
   "id": "e5c9bb6a",
   "metadata": {},
   "source": [
    "1️⃣ __init__ – Constructor\n",
    "Used to initialize new objects."
   ]
  },
  {
   "cell_type": "code",
   "execution_count": 27,
   "id": "1edf5fb3",
   "metadata": {},
   "outputs": [],
   "source": [
    "def __init__(self, name, power):\n",
    "    self.name = name\n",
    "    self.power = power"
   ]
  },
  {
   "cell_type": "markdown",
   "id": "1ebd4fc4",
   "metadata": {},
   "source": [
    "__str__ – Human-readable string"
   ]
  },
  {
   "cell_type": "code",
   "execution_count": 1,
   "id": "02d0abcb",
   "metadata": {},
   "outputs": [],
   "source": [
    "def __str__(self):\n",
    "    return f\"🚀 {self.name} | Power: {self.power} MW\""
   ]
  },
  {
   "cell_type": "markdown",
   "id": "02f50c21",
   "metadata": {},
   "source": [
    "__repr__ – Unambiguous representation\n",
    "Used for debugging, shown in consoles or logs."
   ]
  },
  {
   "cell_type": "code",
   "execution_count": 2,
   "id": "f6a427a0",
   "metadata": {},
   "outputs": [],
   "source": [
    "def __repr__(self):\n",
    "    return f\"Starship(name='{self.name}', power={self.power})\""
   ]
  },
  {
   "cell_type": "markdown",
   "id": "6640db13",
   "metadata": {},
   "source": [
    "__add__ – Addition operator +"
   ]
  },
  {
   "cell_type": "code",
   "execution_count": 3,
   "id": "15ba18d0",
   "metadata": {},
   "outputs": [],
   "source": [
    "def __add__(self, other):\n",
    "    return Starship(f\"{self.name}+{other.name}\", self.power + other.power)"
   ]
  },
  {
   "cell_type": "markdown",
   "id": "c000ef72",
   "metadata": {},
   "source": [
    "__sub__ – Subtraction operator -"
   ]
  },
  {
   "cell_type": "code",
   "execution_count": 4,
   "id": "78ed3f29",
   "metadata": {},
   "outputs": [],
   "source": [
    "def __sub__(self, other):\n",
    "    return Starship(f\"{self.name}-{other.name}\", max(0, self.power - other.power))"
   ]
  },
  {
   "cell_type": "code",
   "execution_count": 5,
   "id": "a60c8962",
   "metadata": {},
   "outputs": [
    {
     "name": "stdout",
     "output_type": "stream",
     "text": [
      "🚀 Millennium Falcon | Power: 750 MW\n",
      "Starship(name='Millennium Falcon', power=750)\n",
      "🚀 Millennium Falcon+Viper Mk VIII | Power: 1350 MW\n",
      "🚀 Millennium Falcon-Viper Mk VIII | Power: 150 MW\n",
      "🚀 Millennium Falcon*2 | Power: 1500 MW\n",
      "False\n",
      "True\n",
      "1500\n",
      "🛸 Millennium Falcon launching manually...\n"
     ]
    }
   ],
   "source": [
    "class Starship:\n",
    "    def __init__(self, name, power):\n",
    "        self.name = name\n",
    "        self.power = power\n",
    "\n",
    "    def __str__(self):\n",
    "        return f\"🚀 {self.name} | Power: {self.power} MW\"\n",
    "\n",
    "    def __repr__(self):\n",
    "        return f\"Starship(name='{self.name}', power={self.power})\"\n",
    "\n",
    "    def __add__(self, other):\n",
    "        return Starship(f\"{self.name}+{other.name}\", self.power + other.power)\n",
    "\n",
    "    def __sub__(self, other):\n",
    "        return Starship(f\"{self.name}-{other.name}\", max(0, self.power - other.power))\n",
    "\n",
    "    def __mul__(self, factor):\n",
    "        return Starship(f\"{self.name}*{factor}\", self.power * factor)\n",
    "\n",
    "    def __eq__(self, other):\n",
    "        return self.power == other.power\n",
    "\n",
    "    def __lt__(self, other):\n",
    "        return self.power < other.power\n",
    "\n",
    "    def __len__(self):\n",
    "        return self.power * 2  # Meters\n",
    "\n",
    "    def __call__(self):\n",
    "        print(f\"🛸 {self.name} launching manually...\")\n",
    "\n",
    "\n",
    "# Test it out!\n",
    "falcon = Starship(\"Millennium Falcon\", 750)\n",
    "viper = Starship(\"Viper Mk VIII\", 600)\n",
    "\n",
    "# Use overloaded operators\n",
    "print(falcon)           # str\n",
    "print(repr(falcon))     # repr\n",
    "print(falcon + viper)   # add\n",
    "print(falcon - viper)   # sub\n",
    "print(falcon * 2)       # mul\n",
    "print(falcon == viper)  # eq\n",
    "print(falcon > viper)   # lt (Python infers > from <)\n",
    "print(len(falcon))      # len\n",
    "falcon()                # call"
   ]
  },
  {
   "cell_type": "markdown",
   "id": "d848fca3",
   "metadata": {},
   "source": [
    "At the academy, you’ve been assigned a critical mission:\n",
    "Protect the warp drive so no cadet accidentally sets it to an unsafe speed.\n",
    "\n",
    "So you create a security officer named WarpDrive that sits between the user and the actual value.\n",
    "\n",
    "This officer checks every attempt to change the warp speed and either allows it or says:\n",
    "\n",
    "“Captain, I cannot allow that!” \n",
    "\n",
    "That’s what a descriptor does — it controls access to an attribute.\n",
    "\n",
    "🛠 Descriptor Basics\n",
    "A descriptor is a class that implements any of these methods:\n",
    "\n",
    "__get__() – for reading\n",
    "__set__() – for writing\n",
    "__delete__() – for deleting"
   ]
  },
  {
   "cell_type": "code",
   "execution_count": 1,
   "id": "9e2c16ce",
   "metadata": {},
   "outputs": [],
   "source": [
    "class WarpDrive:\n",
    "    def __init__(self, max_speed=10):\n",
    "        self.max_speed = max_speed\n",
    "        self._speed = 0\n",
    "\n",
    "    def __get__(self, instance, owner):\n",
    "        print(\"📡 Reading warp speed\")\n",
    "        return self._speed\n",
    "\n",
    "    def __set__(self, instance, value):\n",
    "        if value > self.max_speed:\n",
    "            raise ValueError(f\"Warp speed cannot exceed {self.max_speed}!\")\n",
    "        print(\"🛰 Setting warp speed\")\n",
    "        self._speed = value"
   ]
  },
  {
   "cell_type": "code",
   "execution_count": 2,
   "id": "d950e057",
   "metadata": {},
   "outputs": [],
   "source": [
    "class Starship:\n",
    "    warp = WarpDrive(max_speed=8)\n",
    "\n",
    "    def __init__(self, name):\n",
    "        self.name = name"
   ]
  },
  {
   "cell_type": "code",
   "execution_count": 3,
   "id": "5122d672",
   "metadata": {},
   "outputs": [
    {
     "name": "stdout",
     "output_type": "stream",
     "text": [
      "🛰 Setting warp speed\n",
      "📡 Reading warp speed\n",
      "6\n"
     ]
    },
    {
     "ename": "ValueError",
     "evalue": "Warp speed cannot exceed 8!",
     "output_type": "error",
     "traceback": [
      "\u001b[1;31m---------------------------------------------------------------------------\u001b[0m",
      "\u001b[1;31mValueError\u001b[0m                                Traceback (most recent call last)",
      "Cell \u001b[1;32mIn[3], line 5\u001b[0m\n\u001b[0;32m      2\u001b[0m falcon\u001b[38;5;241m.\u001b[39mwarp \u001b[38;5;241m=\u001b[39m \u001b[38;5;241m6\u001b[39m\n\u001b[0;32m      3\u001b[0m \u001b[38;5;28mprint\u001b[39m(falcon\u001b[38;5;241m.\u001b[39mwarp)  \u001b[38;5;66;03m# Allowed\u001b[39;00m\n\u001b[1;32m----> 5\u001b[0m \u001b[43mfalcon\u001b[49m\u001b[38;5;241;43m.\u001b[39;49m\u001b[43mwarp\u001b[49m \u001b[38;5;241m=\u001b[39m \u001b[38;5;241m9\u001b[39m     \u001b[38;5;66;03m# Raises ValueError!\u001b[39;00m\n",
      "Cell \u001b[1;32mIn[1], line 12\u001b[0m, in \u001b[0;36mWarpDrive.__set__\u001b[1;34m(self, instance, value)\u001b[0m\n\u001b[0;32m     10\u001b[0m \u001b[38;5;28;01mdef\u001b[39;00m\u001b[38;5;250m \u001b[39m\u001b[38;5;21m__set__\u001b[39m(\u001b[38;5;28mself\u001b[39m, instance, value):\n\u001b[0;32m     11\u001b[0m     \u001b[38;5;28;01mif\u001b[39;00m value \u001b[38;5;241m>\u001b[39m \u001b[38;5;28mself\u001b[39m\u001b[38;5;241m.\u001b[39mmax_speed:\n\u001b[1;32m---> 12\u001b[0m         \u001b[38;5;28;01mraise\u001b[39;00m \u001b[38;5;167;01mValueError\u001b[39;00m(\u001b[38;5;124mf\u001b[39m\u001b[38;5;124m\"\u001b[39m\u001b[38;5;124mWarp speed cannot exceed \u001b[39m\u001b[38;5;132;01m{\u001b[39;00m\u001b[38;5;28mself\u001b[39m\u001b[38;5;241m.\u001b[39mmax_speed\u001b[38;5;132;01m}\u001b[39;00m\u001b[38;5;124m!\u001b[39m\u001b[38;5;124m\"\u001b[39m)\n\u001b[0;32m     13\u001b[0m     \u001b[38;5;28mprint\u001b[39m(\u001b[38;5;124m\"\u001b[39m\u001b[38;5;124m🛰 Setting warp speed\u001b[39m\u001b[38;5;124m\"\u001b[39m)\n\u001b[0;32m     14\u001b[0m     \u001b[38;5;28mself\u001b[39m\u001b[38;5;241m.\u001b[39m_speed \u001b[38;5;241m=\u001b[39m value\n",
      "\u001b[1;31mValueError\u001b[0m: Warp speed cannot exceed 8!"
     ]
    }
   ],
   "source": [
    "falcon = Starship(\"Millennium Falcon\")\n",
    "falcon.warp = 6\n",
    "print(falcon.warp)  # Allowed\n",
    "\n",
    "falcon.warp = 9     # Raises ValueError!"
   ]
  },
  {
   "cell_type": "code",
   "execution_count": 4,
   "id": "902618b9",
   "metadata": {},
   "outputs": [],
   "source": [
    "class LifeSupport:\n",
    "    def __init__(self):\n",
    "        self._oxygen = 100\n",
    "\n",
    "    def __get__(self, instance, owner):\n",
    "        print(\"🫁 Checking oxygen levels...\")\n",
    "        return self._oxygen\n",
    "\n",
    "    def __set__(self, instance, value):\n",
    "        if not 0 <= value <= 100:\n",
    "            raise ValueError(\"Oxygen must be between 0% and 100%\")\n",
    "        print(\"🧪 Adjusting oxygen levels...\")\n",
    "        self._oxygen = value"
   ]
  },
  {
   "cell_type": "code",
   "execution_count": 10,
   "id": "e970af36",
   "metadata": {},
   "outputs": [],
   "source": [
    "class ExplorerShip:\n",
    "    life_support = LifeSupport()\n",
    "\n",
    "    def __init__(self,name):\n",
    "        self.name = name\n",
    "\n",
    "\n"
   ]
  },
  {
   "cell_type": "code",
   "execution_count": 11,
   "id": "4cdf51fb",
   "metadata": {},
   "outputs": [
    {
     "ename": "TypeError",
     "evalue": "ExplorerShip.__init__() missing 1 required positional argument: 'name'",
     "output_type": "error",
     "traceback": [
      "\u001b[1;31m---------------------------------------------------------------------------\u001b[0m",
      "\u001b[1;31mTypeError\u001b[0m                                 Traceback (most recent call last)",
      "Cell \u001b[1;32mIn[11], line 1\u001b[0m\n\u001b[1;32m----> 1\u001b[0m ship \u001b[38;5;241m=\u001b[39m \u001b[43mExplorerShip\u001b[49m\u001b[43m(\u001b[49m\u001b[43m)\u001b[49m\n\u001b[0;32m      2\u001b[0m ship\u001b[38;5;241m.\u001b[39mlife_support \u001b[38;5;241m=\u001b[39m \u001b[38;5;241m75\u001b[39m\n",
      "\u001b[1;31mTypeError\u001b[0m: ExplorerShip.__init__() missing 1 required positional argument: 'name'"
     ]
    }
   ],
   "source": [
    "ship = ExplorerShip()\n",
    "ship.life_support = 75"
   ]
  },
  {
   "cell_type": "markdown",
   "id": "5f05879f",
   "metadata": {},
   "source": [
    "🏗️ What About @property?\n",
    "If descriptors are custom gatekeepers , then @property is the built-in bouncer who can do basic checks without needing a whole class.\n",
    "\n",
    "It's simpler, and perfect for controlling access to instance attributes ."
   ]
  },
  {
   "cell_type": "code",
   "execution_count": 12,
   "id": "75d59476",
   "metadata": {},
   "outputs": [],
   "source": [
    "class CargoShip:\n",
    "    def __init__(self, fuel=100):\n",
    "        self._fuel = fuel\n",
    "\n",
    "    @property\n",
    "    def fuel(self):\n",
    "        print(\"⛽ Checking fuel reserves...\")\n",
    "        return self._fuel\n",
    "\n",
    "    @fuel.setter\n",
    "    def fuel(self, value):\n",
    "        if value < 0:\n",
    "            raise ValueError(\"Fuel level cannot be negative!\")\n",
    "        print(\"🔄 Refueling...\")\n",
    "        self._fuel = value"
   ]
  },
  {
   "cell_type": "code",
   "execution_count": 13,
   "id": "8d54d91c",
   "metadata": {},
   "outputs": [
    {
     "name": "stdout",
     "output_type": "stream",
     "text": [
      "⛽ Checking fuel reserves...\n",
      "100\n",
      "🔄 Refueling...\n"
     ]
    },
    {
     "ename": "ValueError",
     "evalue": "Fuel level cannot be negative!",
     "output_type": "error",
     "traceback": [
      "\u001b[1;31m---------------------------------------------------------------------------\u001b[0m",
      "\u001b[1;31mValueError\u001b[0m                                Traceback (most recent call last)",
      "Cell \u001b[1;32mIn[13], line 4\u001b[0m\n\u001b[0;32m      2\u001b[0m \u001b[38;5;28mprint\u001b[39m(freighter\u001b[38;5;241m.\u001b[39mfuel)      \u001b[38;5;66;03m# Gets fuel\u001b[39;00m\n\u001b[0;32m      3\u001b[0m freighter\u001b[38;5;241m.\u001b[39mfuel \u001b[38;5;241m=\u001b[39m \u001b[38;5;241m80\u001b[39m        \u001b[38;5;66;03m# Sets fuel\u001b[39;00m\n\u001b[1;32m----> 4\u001b[0m \u001b[43mfreighter\u001b[49m\u001b[38;5;241;43m.\u001b[39;49m\u001b[43mfuel\u001b[49m \u001b[38;5;241m=\u001b[39m \u001b[38;5;241m-\u001b[39m\u001b[38;5;241m10\u001b[39m       \u001b[38;5;66;03m# Throws error\u001b[39;00m\n",
      "Cell \u001b[1;32mIn[12], line 13\u001b[0m, in \u001b[0;36mCargoShip.fuel\u001b[1;34m(self, value)\u001b[0m\n\u001b[0;32m     10\u001b[0m \u001b[38;5;129m@fuel\u001b[39m\u001b[38;5;241m.\u001b[39msetter\n\u001b[0;32m     11\u001b[0m \u001b[38;5;28;01mdef\u001b[39;00m\u001b[38;5;250m \u001b[39m\u001b[38;5;21mfuel\u001b[39m(\u001b[38;5;28mself\u001b[39m, value):\n\u001b[0;32m     12\u001b[0m     \u001b[38;5;28;01mif\u001b[39;00m value \u001b[38;5;241m<\u001b[39m \u001b[38;5;241m0\u001b[39m:\n\u001b[1;32m---> 13\u001b[0m         \u001b[38;5;28;01mraise\u001b[39;00m \u001b[38;5;167;01mValueError\u001b[39;00m(\u001b[38;5;124m\"\u001b[39m\u001b[38;5;124mFuel level cannot be negative!\u001b[39m\u001b[38;5;124m\"\u001b[39m)\n\u001b[0;32m     14\u001b[0m     \u001b[38;5;28mprint\u001b[39m(\u001b[38;5;124m\"\u001b[39m\u001b[38;5;124m🔄 Refueling...\u001b[39m\u001b[38;5;124m\"\u001b[39m)\n\u001b[0;32m     15\u001b[0m     \u001b[38;5;28mself\u001b[39m\u001b[38;5;241m.\u001b[39m_fuel \u001b[38;5;241m=\u001b[39m value\n",
      "\u001b[1;31mValueError\u001b[0m: Fuel level cannot be negative!"
     ]
    }
   ],
   "source": [
    "freighter = CargoShip()\n",
    "print(freighter.fuel)      # Gets fuel\n",
    "freighter.fuel = 80        # Sets fuel\n",
    "freighter.fuel = -10       # Throws error"
   ]
  },
  {
   "cell_type": "code",
   "execution_count": 14,
   "id": "5e88e12c",
   "metadata": {},
   "outputs": [
    {
     "name": "stdout",
     "output_type": "stream",
     "text": [
      "Creating class Hero with MetaCreature\n",
      "Hero Zahid\n",
      "Hero Zahid-Luna\n",
      "Hero's move: Flying in the sky!\n",
      "Bird's move: Bird flaps wings and flies.\n",
      "** Secret: Python wizard **\n"
     ]
    }
   ],
   "source": [
    "from abc import ABC, abstractmethod\n",
    "\n",
    "# Abstract Base Class\n",
    "class Creature(ABC):\n",
    "    @abstractmethod\n",
    "    def move(self):\n",
    "        pass\n",
    "\n",
    "# Descriptors\n",
    "class Secret:\n",
    "    def __init__(self):\n",
    "        self._value = None\n",
    "\n",
    "    def __get__(self, instance, owner):\n",
    "        return f\"** Secret: {self._value} **\"\n",
    "\n",
    "    def __set__(self, instance, value):\n",
    "        self._value = value.capitalize()\n",
    "\n",
    "# Metaclass to auto-register classes\n",
    "class MetaCreature(type):\n",
    "    def __new__(cls, name, bases, attrs):\n",
    "        print(f\"Creating class {name} with MetaCreature\")\n",
    "        return super().__new__(cls, name, bases, attrs)\n",
    "\n",
    "# Flying class\n",
    "class Flyer:\n",
    "    def move(self):\n",
    "        return \"Flying in the sky!\"\n",
    "\n",
    "# Swimmer class\n",
    "class Swimmer:\n",
    "    def move(self):\n",
    "        return \"Swimming in the water!\"\n",
    "\n",
    "# Hero inherits from both - Multiple Inheritance\n",
    "class Hero(Flyer, Swimmer, metaclass=MetaCreature):\n",
    "    secret = Secret()  # Using descriptor\n",
    "\n",
    "    def __init__(self, name):\n",
    "        self._name = name\n",
    "        self.secret = \"python wizard\"\n",
    "\n",
    "    def __str__(self):\n",
    "        return f\"Hero {self._name}\"\n",
    "\n",
    "    def __add__(self, other):\n",
    "        return Hero(self._name + \"-\" + other._name)\n",
    "\n",
    "# A class that must implement move()\n",
    "class Bird(Creature):\n",
    "    def move(self):\n",
    "        return \"Bird flaps wings and flies.\"\n",
    "\n",
    "# --- Let's use the project ---\n",
    "\n",
    "# Create Hero\n",
    "hero1 = Hero(\"Zahid\")\n",
    "hero2 = Hero(\"Luna\")\n",
    "\n",
    "# Print hero\n",
    "print(hero1)  # Uses __str__\n",
    "\n",
    "# Operator overloading\n",
    "hero3 = hero1 + hero2\n",
    "print(hero3)\n",
    "\n",
    "# MRO\n",
    "print(\"Hero's move:\", hero3.move())  # MRO chooses Flyer before Swimmer\n",
    "\n",
    "# Abstract Base Class\n",
    "bird = Bird()\n",
    "print(\"Bird's move:\", bird.move())\n",
    "\n",
    "# Descriptor\n",
    "print(hero3.secret)\n"
   ]
  }
 ],
 "metadata": {
  "kernelspec": {
   "display_name": "venv",
   "language": "python",
   "name": "python3"
  },
  "language_info": {
   "codemirror_mode": {
    "name": "ipython",
    "version": 3
   },
   "file_extension": ".py",
   "mimetype": "text/x-python",
   "name": "python",
   "nbconvert_exporter": "python",
   "pygments_lexer": "ipython3",
   "version": "3.10.16"
  }
 },
 "nbformat": 4,
 "nbformat_minor": 5
}
