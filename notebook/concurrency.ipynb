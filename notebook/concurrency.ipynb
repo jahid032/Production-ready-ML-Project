{
 "cells": [
  {
   "cell_type": "markdown",
   "id": "502463c4",
   "metadata": {},
   "source": [
    "Threading: Tasks share the same brain (CPU)"
   ]
  },
  {
   "cell_type": "code",
   "execution_count": 5,
   "id": "e949d7cd",
   "metadata": {},
   "outputs": [
    {
     "name": "stdout",
     "output_type": "stream",
     "text": [
      "🔭 Scanning asteroid Alpha...\n",
      "🔭 Scanning asteroid Beta...\n",
      "✅ Asteroid Alpha scanned!\n",
      "✅ Asteroid Beta scanned!\n",
      "📡 All asteroids scanned!\n"
     ]
    }
   ],
   "source": [
    "import threading\n",
    "import time\n",
    "\n",
    "def scan_asteroid(name):\n",
    "    print(f\"🔭 Scanning asteroid {name}...\")\n",
    "    time.sleep(2)\n",
    "    print(f\"✅ Asteroid {name} scanned!\")\n",
    "\n",
    "# Create threads\n",
    "t1 = threading.Thread(target=scan_asteroid, args=(\"Alpha\",))\n",
    "t2 = threading.Thread(target=scan_asteroid, args=(\"Beta\",))\n",
    "\n",
    "# Start both scans\n",
    "t1.start()\n",
    "t2.start()\n",
    "\n",
    "# Wait for both to finish\n",
    "t1.join()\n",
    "t2.join()\n",
    "\n",
    "print(\"📡 All asteroids scanned!\")\n"
   ]
  },
  {
   "cell_type": "markdown",
   "id": "5eee6796",
   "metadata": {},
   "source": [
    "💪 2. Multiprocessing: Tasks done on different CPUs"
   ]
  },
  {
   "cell_type": "code",
   "execution_count": 6,
   "id": "3e47d6cf",
   "metadata": {},
   "outputs": [
    {
     "name": "stdout",
     "output_type": "stream",
     "text": [
      "🚀 All engines ready for warp!\n"
     ]
    }
   ],
   "source": [
    "import multiprocessing\n",
    "import time\n",
    "\n",
    "def engine_reboot(engine_id):\n",
    "    print(f\"⚙️ Rebooting Engine {engine_id}...\")\n",
    "    time.sleep(3)\n",
    "    print(f\"🔥 Engine {engine_id} online!\")\n",
    "\n",
    "if __name__ == \"__main__\":\n",
    "    p1 = multiprocessing.Process(target=engine_reboot, args=(1,))\n",
    "    p2 = multiprocessing.Process(target=engine_reboot, args=(2,))\n",
    "\n",
    "    p1.start()\n",
    "    p2.start()\n",
    "\n",
    "    p1.join()\n",
    "    p2.join()\n",
    "\n",
    "    print(\"🚀 All engines ready for warp!\")"
   ]
  },
  {
   "cell_type": "code",
   "execution_count": 7,
   "id": "eaa7c732",
   "metadata": {},
   "outputs": [
    {
     "name": "stdout",
     "output_type": "stream",
     "text": [
      "🚀 All engines ready for warp!\n"
     ]
    }
   ],
   "source": [
    "import multiprocessing\n",
    "import time\n",
    "\n",
    "def engine_reboot(engine_id):\n",
    "    print(f\"⚙️ Rebooting Engine {engine_id}...\")\n",
    "    time.sleep(3)\n",
    "    print(f\"🔥 Engine {engine_id} online!\")\n",
    "\n",
    "# Create and start processes\n",
    "p1 = multiprocessing.Process(target=engine_reboot, args=(1,))\n",
    "p2 = multiprocessing.Process(target=engine_reboot, args=(2,))\n",
    "\n",
    "p1.start()\n",
    "p2.start()\n",
    "\n",
    "p1.join()\n",
    "p2.join()\n",
    "\n",
    "print(\"🚀 All engines ready for warp!\")"
   ]
  },
  {
   "cell_type": "markdown",
   "id": "9a630e44",
   "metadata": {},
   "source": [
    "🔮 3. Asyncio: Smart waiting with async/await"
   ]
  },
  {
   "cell_type": "code",
   "execution_count": 10,
   "id": "43a2b621",
   "metadata": {},
   "outputs": [
    {
     "name": "stdout",
     "output_type": "stream",
     "text": [
      "📡 Sending distress signal...\n",
      "💡 Fixing light system...\n",
      "💡 Lights restored!\n",
      "🛰 Response received from Earth!\n"
     ]
    }
   ],
   "source": [
    "import asyncio\n",
    "\n",
    "async def send_distress_signal():\n",
    "    print(\"📡 Sending distress signal...\")\n",
    "    await asyncio.sleep(3)\n",
    "    print(\"🛰 Response received from Earth!\")\n",
    "\n",
    "async def fix_light_system():\n",
    "    print(\"💡 Fixing light system...\")\n",
    "    await asyncio.sleep(1)\n",
    "    print(\"💡 Lights restored!\")\n",
    "\n",
    "async def main():\n",
    "    # Run both tasks at the same time\n",
    "    await asyncio.gather(\n",
    "        send_distress_signal(),\n",
    "        fix_light_system()\n",
    "    )\n",
    "\n",
    "# Run the async event loop\n",
    "await main()\n"
   ]
  },
  {
   "cell_type": "code",
   "execution_count": 11,
   "id": "4599ec6a",
   "metadata": {},
   "outputs": [
    {
     "name": "stdout",
     "output_type": "stream",
     "text": [
      "🥪 Serving Ali\n",
      "🥪 Serving Zara\n",
      "🥪 Serving Kiran\n"
     ]
    }
   ],
   "source": [
    "import queue\n",
    "\n",
    "q = queue.Queue()\n",
    "\n",
    "# Add students to the queue\n",
    "q.put(\"Ali\")\n",
    "q.put(\"Zara\")\n",
    "q.put(\"Kiran\")\n",
    "\n",
    "# Serve them one by one\n",
    "while not q.empty():\n",
    "    student = q.get()\n",
    "    print(f\"🥪 Serving {student}\")"
   ]
  },
  {
   "cell_type": "code",
   "execution_count": 13,
   "id": "b669433d",
   "metadata": {},
   "outputs": [
    {
     "name": "stdout",
     "output_type": "stream",
     "text": [
      "⏳ Waiting for smoothie...\n",
      "🍹 Smoothie for Ali\n"
     ]
    }
   ],
   "source": [
    "from concurrent.futures import ThreadPoolExecutor\n",
    "\n",
    "def make_smoothie(student):\n",
    "    return f\"🍹 Smoothie for {student}\"\n",
    "\n",
    "with ThreadPoolExecutor() as executor:\n",
    "    future = executor.submit(make_smoothie, \"Ali\")\n",
    "\n",
    "    print(\"⏳ Waiting for smoothie...\")\n",
    "    result = future.result()  # This blocks until done\n",
    "    print(result)"
   ]
  },
  {
   "cell_type": "markdown",
   "id": "2c43dcf7",
   "metadata": {},
   "source": [
    "What is an Event Loop?\n",
    "An Event Loop is like the cafeteria manager who decides what happens next.\n",
    "\n",
    "If someone ordered a smoothie (but it's not ready), they get a ticket (Future).\n",
    "While waiting, the manager serves others.\n",
    "Once the smoothie is ready, the manager calls that student.\n",
    "This is how async programming works!"
   ]
  },
  {
   "cell_type": "code",
   "execution_count": 15,
   "id": "6ff1db09",
   "metadata": {},
   "outputs": [
    {
     "name": "stdout",
     "output_type": "stream",
     "text": [
      "📢 All orders placed!\n",
      "Ali orders a smoothie\n",
      "Zara orders a smoothie\n",
      "🍔 Serving burger...\n",
      "🍔 Serving burger...\n",
      "🍔 Serving burger...\n",
      "🍹 Ali's smoothie is ready!\n",
      "🍹 Zara's smoothie is ready!\n"
     ]
    }
   ],
   "source": [
    "import asyncio\n",
    "\n",
    "async def order_smoothie(student):\n",
    "    print(f\"{student} orders a smoothie\")\n",
    "    await asyncio.sleep(3)  # Simulate time to make it\n",
    "    print(f\"🍹 {student}'s smoothie is ready!\")\n",
    "\n",
    "async def serve_burgers():\n",
    "    for i in range(3):\n",
    "        print(\"🍔 Serving burger...\")\n",
    "        await asyncio.sleep(1)\n",
    "\n",
    "async def main():\n",
    "    # Create tasks to run at the same time\n",
    "    task1 = asyncio.create_task(order_smoothie(\"Ali\"))\n",
    "    task2 = asyncio.create_task(order_smoothie(\"Zara\"))\n",
    "    task3 = asyncio.create_task(serve_burgers())\n",
    "\n",
    "    print(\"📢 All orders placed!\")\n",
    "    await task1  # Wait for all tasks\n",
    "    await task2\n",
    "    await task3\n",
    "\n",
    "# Run the event loop\n",
    "await main()"
   ]
  },
  {
   "cell_type": "code",
   "execution_count": 2,
   "id": "22148077",
   "metadata": {},
   "outputs": [
    {
     "name": "stdout",
     "output_type": "stream",
     "text": [
      "🌐 Age prediction for Zara:\n",
      "{'count': 6296, 'name': 'zara', 'age': 40}\n"
     ]
    }
   ],
   "source": [
    "import requests\n",
    "\n",
    "response = requests.get(\"https://api.agify.io/?name=zara\")\n",
    "print(\"🌐 Age prediction for Zara:\")\n",
    "print(response.json())\n"
   ]
  }
 ],
 "metadata": {
  "kernelspec": {
   "display_name": "venv",
   "language": "python",
   "name": "python3"
  },
  "language_info": {
   "codemirror_mode": {
    "name": "ipython",
    "version": 3
   },
   "file_extension": ".py",
   "mimetype": "text/x-python",
   "name": "python",
   "nbconvert_exporter": "python",
   "pygments_lexer": "ipython3",
   "version": "3.10.16"
  }
 },
 "nbformat": 4,
 "nbformat_minor": 5
}
