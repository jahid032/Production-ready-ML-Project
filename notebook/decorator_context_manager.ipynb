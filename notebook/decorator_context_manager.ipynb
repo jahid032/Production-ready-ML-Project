{
 "cells": [
  {
   "cell_type": "markdown",
   "id": "a43e6419",
   "metadata": {},
   "source": [
    "🌟 What is an Orator (Decorator)?\n",
    "An decorator helps you change the behavior of a function without changing its code"
   ]
  },
  {
   "cell_type": "code",
   "execution_count": 1,
   "id": "e72859b8",
   "metadata": {},
   "outputs": [
    {
     "name": "stdout",
     "output_type": "stream",
     "text": [
      "🎤 SPEECH STARTING...\n",
      "Welcome, brave student!\n",
      "🎉 SPEECH ENDED.\n"
     ]
    }
   ],
   "source": [
    "def loud_speech(func):\n",
    "    def wrapper():\n",
    "        print(\"🎤 SPEECH STARTING...\")\n",
    "        func()\n",
    "        print(\"🎉 SPEECH ENDED.\")\n",
    "    return wrapper\n",
    "\n",
    "@loud_speech\n",
    "def welcome_student():\n",
    "    print(\"Welcome, brave student!\")\n",
    "\n",
    "welcome_student()"
   ]
  },
  {
   "cell_type": "markdown",
   "id": "4ee8046f",
   "metadata": {},
   "source": [
    "functools.wraps – Don’t Lose Track of Who You Are\n",
    "Sometimes when you wrap a function, Python forgets its name and description"
   ]
  },
  {
   "cell_type": "code",
   "execution_count": 2,
   "id": "0aae0fe9",
   "metadata": {},
   "outputs": [
    {
     "name": "stdout",
     "output_type": "stream",
     "text": [
      "welcome_student\n",
      "Greets new students\n"
     ]
    }
   ],
   "source": [
    "from functools import wraps\n",
    "\n",
    "def loud_speech(func):\n",
    "    @wraps(func)\n",
    "    def wrapper():\n",
    "        print(\"🎤 SPEECH STARTING...\")\n",
    "        func()\n",
    "        print(\"🎉 SPEECH ENDED.\")\n",
    "    return wrapper\n",
    "\n",
    "@loud_speech\n",
    "def welcome_student():\n",
    "    \"\"\"Greets new students\"\"\"\n",
    "    print(\"Welcome, brave student!\")\n",
    "\n",
    "print(welcome_student.__name__)\n",
    "print(welcome_student.__doc__)"
   ]
  },
  {
   "cell_type": "markdown",
   "id": "2edae593",
   "metadata": {},
   "source": [
    "lru_cache – Remembering Potion Recipes"
   ]
  },
  {
   "cell_type": "code",
   "execution_count": 3,
   "id": "d2e26e36",
   "metadata": {},
   "outputs": [
    {
     "name": "stdout",
     "output_type": "stream",
     "text": [
      "⚗️ Brewing Healing... (This takes time!)\n",
      "✅ Healing is ready!\n",
      "⚗️ Brewing Invisibility... (This takes time!)\n",
      "✅ Invisibility is ready!\n",
      "✅ Healing is ready!\n"
     ]
    }
   ],
   "source": [
    "from functools import lru_cache\n",
    "\n",
    "@lru_cache(maxsize=2)  # Remembers last 2 calls\n",
    "def brew_potion(potion_name):\n",
    "    print(f\"⚗️ Brewing {potion_name}... (This takes time!)\")\n",
    "    return f\"✅ {potion_name} is ready!\"\n",
    "\n",
    "print(brew_potion(\"Healing\"))  # Brews fresh  \n",
    "print(brew_potion(\"Invisibility\"))  # Brews fresh  \n",
    "print(brew_potion(\"Healing\"))  # ⚡ INSTANT (cached!)  "
   ]
  },
  {
   "cell_type": "markdown",
   "id": "f28e2bdc",
   "metadata": {},
   "source": [
    "🧹 Part 2: Context Managers – Safety Spells\n",
    "(Automatically cleans up mess!)\n",
    "\n",
    "Story:\n",
    "When opening a magic portal, you must close it afterward (or monsters escape!).\n",
    "\n",
    "A context manager (with) ensures it always closes, even if errors happen."
   ]
  },
  {
   "cell_type": "code",
   "execution_count": 4,
   "id": "33cdad26",
   "metadata": {},
   "outputs": [
    {
     "name": "stdout",
     "output_type": "stream",
     "text": [
      "🚪 Portal opened!\n",
      "🌀 Traveling through the portal...\n",
      "🚪 Portal closed! (Even if an error happened)\n"
     ]
    }
   ],
   "source": [
    "class MagicPortal:\n",
    "    def __enter__(self):\n",
    "        print(\"🚪 Portal opened!\")\n",
    "        return self\n",
    "\n",
    "    def __exit__(self, exc_type, exc_val, exc_tb):\n",
    "        print(\"🚪 Portal closed! (Even if an error happened)\")\n",
    "\n",
    "with MagicPortal() as portal:\n",
    "    print(\"🌀 Traveling through the portal...\")\n",
    "    # No need to manually close!"
   ]
  },
  {
   "cell_type": "markdown",
   "id": "33a99524",
   "metadata": {},
   "source": [
    "contextlib – Simpler Portal\n",
    "(No need for a full class!)"
   ]
  },
  {
   "cell_type": "markdown",
   "id": "a25e65f5",
   "metadata": {},
   "source": [
    "Why @contextmanager?\n",
    "\n",
    "Lets you write shorter context managers without a class."
   ]
  },
  {
   "cell_type": "code",
   "execution_count": 5,
   "id": "007cec11",
   "metadata": {},
   "outputs": [
    {
     "name": "stdout",
     "output_type": "stream",
     "text": [
      "🚪 Portal opened!\n",
      "🌀 Traveling through 🔮 Magic Link...\n",
      "🚪 Portal closed!\n"
     ]
    }
   ],
   "source": [
    "from contextlib import contextmanager\n",
    "\n",
    "@contextmanager\n",
    "def magic_portal():\n",
    "    print(\"🚪 Portal opened!\")  # Like __enter__\n",
    "    yield \"🔮 Magic Link\"\n",
    "    print(\"🚪 Portal closed!\")  # Like __exit__\n",
    "\n",
    "with magic_portal() as link:\n",
    "    print(f\"🌀 Traveling through {link}...\")"
   ]
  },
  {
   "cell_type": "code",
   "execution_count": 6,
   "id": "567973e6",
   "metadata": {},
   "outputs": [
    {
     "name": "stdout",
     "output_type": "stream",
     "text": [
      "📜 Casting fire_spell!\n",
      "🔥 Dragon burns!\n",
      "🔥 Dragon burns!\n",
      "🛡️ Protective barrier activated!\n",
      "⚡ Casting dangerous spell...\n",
      "🛡️ Barrier deactivated!\n"
     ]
    }
   ],
   "source": [
    "from functools import lru_cache, wraps\n",
    "from contextlib import contextmanager\n",
    "\n",
    "# 1. Decorator with @wraps\n",
    "def log_spell(spell_func):\n",
    "    @wraps(spell_func)\n",
    "    def wrapper(*args):\n",
    "        print(f\"📜 Casting {spell_func.__name__}!\")\n",
    "        return spell_func(*args)\n",
    "    return wrapper\n",
    "\n",
    "# 2. Cached spell (no duplicate casting)\n",
    "@lru_cache(maxsize=3)\n",
    "@log_spell\n",
    "def fire_spell(target):\n",
    "    return f\"🔥 {target} burns!\"\n",
    "\n",
    "# 3. Context Manager for spell safety\n",
    "@contextmanager\n",
    "def spell_safety():\n",
    "    print(\"🛡️ Protective barrier activated!\")\n",
    "    yield\n",
    "    print(\"🛡️ Barrier deactivated!\")\n",
    "\n",
    "# Let's cast spells!\n",
    "print(fire_spell(\"Dragon\"))  # First cast (new)  \n",
    "print(fire_spell(\"Dragon\"))  # INSTANT (cached!)  \n",
    "\n",
    "with spell_safety():\n",
    "    print(\"⚡ Casting dangerous spell...\")  "
   ]
  },
  {
   "cell_type": "code",
   "execution_count": 7,
   "id": "13820c3a",
   "metadata": {},
   "outputs": [
    {
     "name": "stdout",
     "output_type": "stream",
     "text": [
      "354224848179261915075\n"
     ]
    }
   ],
   "source": [
    "from functools import lru_cache\n",
    "\n",
    "@lru_cache\n",
    "def fib(n):\n",
    "    if n <= 1:\n",
    "        return n\n",
    "    return fib(n - 1) + fib(n - 2)\n",
    "\n",
    "print(fib(100))  # This would be really slow without caching!"
   ]
  },
  {
   "cell_type": "code",
   "execution_count": 9,
   "id": "92c79b63",
   "metadata": {},
   "outputs": [
    {
     "ename": "KeyboardInterrupt",
     "evalue": "",
     "output_type": "error",
     "traceback": [
      "\u001b[1;31m---------------------------------------------------------------------------\u001b[0m",
      "\u001b[1;31mKeyboardInterrupt\u001b[0m                         Traceback (most recent call last)",
      "Cell \u001b[1;32mIn[9], line 6\u001b[0m\n\u001b[0;32m      3\u001b[0m         \u001b[38;5;28;01mreturn\u001b[39;00m n\n\u001b[0;32m      4\u001b[0m     \u001b[38;5;28;01mreturn\u001b[39;00m fib(n \u001b[38;5;241m-\u001b[39m \u001b[38;5;241m1\u001b[39m) \u001b[38;5;241m+\u001b[39m fib(n \u001b[38;5;241m-\u001b[39m \u001b[38;5;241m2\u001b[39m)\n\u001b[1;32m----> 6\u001b[0m \u001b[38;5;28mprint\u001b[39m(\u001b[43mfib\u001b[49m\u001b[43m(\u001b[49m\u001b[38;5;241;43m50\u001b[39;49m\u001b[43m)\u001b[49m)  \u001b[38;5;66;03m# This would be really slow without caching!\u001b[39;00m\n",
      "Cell \u001b[1;32mIn[9], line 4\u001b[0m, in \u001b[0;36mfib\u001b[1;34m(n)\u001b[0m\n\u001b[0;32m      2\u001b[0m \u001b[38;5;28;01mif\u001b[39;00m n \u001b[38;5;241m<\u001b[39m\u001b[38;5;241m=\u001b[39m \u001b[38;5;241m1\u001b[39m:\n\u001b[0;32m      3\u001b[0m     \u001b[38;5;28;01mreturn\u001b[39;00m n\n\u001b[1;32m----> 4\u001b[0m \u001b[38;5;28;01mreturn\u001b[39;00m \u001b[43mfib\u001b[49m\u001b[43m(\u001b[49m\u001b[43mn\u001b[49m\u001b[43m \u001b[49m\u001b[38;5;241;43m-\u001b[39;49m\u001b[43m \u001b[49m\u001b[38;5;241;43m1\u001b[39;49m\u001b[43m)\u001b[49m \u001b[38;5;241m+\u001b[39m fib(n \u001b[38;5;241m-\u001b[39m \u001b[38;5;241m2\u001b[39m)\n",
      "Cell \u001b[1;32mIn[9], line 4\u001b[0m, in \u001b[0;36mfib\u001b[1;34m(n)\u001b[0m\n\u001b[0;32m      2\u001b[0m \u001b[38;5;28;01mif\u001b[39;00m n \u001b[38;5;241m<\u001b[39m\u001b[38;5;241m=\u001b[39m \u001b[38;5;241m1\u001b[39m:\n\u001b[0;32m      3\u001b[0m     \u001b[38;5;28;01mreturn\u001b[39;00m n\n\u001b[1;32m----> 4\u001b[0m \u001b[38;5;28;01mreturn\u001b[39;00m \u001b[43mfib\u001b[49m\u001b[43m(\u001b[49m\u001b[43mn\u001b[49m\u001b[43m \u001b[49m\u001b[38;5;241;43m-\u001b[39;49m\u001b[43m \u001b[49m\u001b[38;5;241;43m1\u001b[39;49m\u001b[43m)\u001b[49m \u001b[38;5;241m+\u001b[39m fib(n \u001b[38;5;241m-\u001b[39m \u001b[38;5;241m2\u001b[39m)\n",
      "    \u001b[1;31m[... skipping similar frames: fib at line 4 (34 times)]\u001b[0m\n",
      "Cell \u001b[1;32mIn[9], line 4\u001b[0m, in \u001b[0;36mfib\u001b[1;34m(n)\u001b[0m\n\u001b[0;32m      2\u001b[0m \u001b[38;5;28;01mif\u001b[39;00m n \u001b[38;5;241m<\u001b[39m\u001b[38;5;241m=\u001b[39m \u001b[38;5;241m1\u001b[39m:\n\u001b[0;32m      3\u001b[0m     \u001b[38;5;28;01mreturn\u001b[39;00m n\n\u001b[1;32m----> 4\u001b[0m \u001b[38;5;28;01mreturn\u001b[39;00m fib(n \u001b[38;5;241m-\u001b[39m \u001b[38;5;241m1\u001b[39m) \u001b[38;5;241m+\u001b[39m \u001b[43mfib\u001b[49m\u001b[43m(\u001b[49m\u001b[43mn\u001b[49m\u001b[43m \u001b[49m\u001b[38;5;241;43m-\u001b[39;49m\u001b[43m \u001b[49m\u001b[38;5;241;43m2\u001b[39;49m\u001b[43m)\u001b[49m\n",
      "\u001b[1;31mKeyboardInterrupt\u001b[0m: "
     ]
    }
   ],
   "source": [
    "\n",
    "def fib(n):\n",
    "    if n <= 1:\n",
    "        return n\n",
    "    return fib(n - 1) + fib(n - 2)\n",
    "\n",
    "print(fib(50))  # This would be really slow without caching!"
   ]
  },
  {
   "cell_type": "markdown",
   "id": "41234333",
   "metadata": {},
   "source": [
    "partial() – Pre-Fill Functions Like Shortcuts\n",
    "Sometimes you want to make a shortcut version of a function."
   ]
  },
  {
   "cell_type": "code",
   "execution_count": null,
   "id": "c232accf",
   "metadata": {},
   "outputs": [],
   "source": [
    "from functools import partial\n",
    "\n",
    "def power(base, exponent):\n",
    "    return base ** exponent\n",
    "\n",
    "square = partial(power, exponent=2)\n",
    "cube = partial(power, exponent=3)\n",
    "\n",
    "print(square(5))  # 5^2 = 25\n",
    "print(cube(5))    # 5^3 = 125"
   ]
  }
 ],
 "metadata": {
  "kernelspec": {
   "display_name": "venv",
   "language": "python",
   "name": "python3"
  },
  "language_info": {
   "codemirror_mode": {
    "name": "ipython",
    "version": 3
   },
   "file_extension": ".py",
   "mimetype": "text/x-python",
   "name": "python",
   "nbconvert_exporter": "python",
   "pygments_lexer": "ipython3",
   "version": "3.10.16"
  }
 },
 "nbformat": 4,
 "nbformat_minor": 5
}
