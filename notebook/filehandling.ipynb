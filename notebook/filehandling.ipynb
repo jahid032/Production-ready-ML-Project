{
 "cells": [
  {
   "cell_type": "code",
   "execution_count": null,
   "id": "62726a0d",
   "metadata": {},
   "outputs": [
    {
     "name": "stdout",
     "output_type": "stream",
     "text": [
      "1_EDA_US_visa.ipynb\n",
      "2_Feature_Engineering_and_Model_Training.ipynb\n",
      "advancepython.ipynb\n",
      "boston_data_drift_report.html\n",
      "catboost_info\n",
      "concurrency.ipynb\n",
      "data_drift.ipynb\n",
      "decorator_context_manager.ipynb\n",
      "EasyVisa.csv\n",
      "EDA_glassdorjob.ipynb\n",
      "filehandling.ipynb\n",
      "functionalprog.ipynb\n",
      "glassdoor_jobs.csv\n",
      "iterator_generatot.ipynb\n",
      "mongodb_demo.ipynb\n",
      "python_internals.ipynb\n",
      "Typehinting.ipynb\n",
      "Visadataset.csv\n"
     ]
    }
   ],
   "source": [
    "import os\n",
    "\n",
    "for file in os.listdir():\n",
    "    print(file)"
   ]
  },
  {
   "cell_type": "code",
   "execution_count": 3,
   "id": "641842a4",
   "metadata": {},
   "outputs": [
    {
     "name": "stdout",
     "output_type": "stream",
     "text": [
      "EasyVisa.csv\n",
      "glassdoor_jobs.csv\n",
      "Visadataset.csv\n"
     ]
    }
   ],
   "source": [
    "from pathlib import Path\n",
    "\n",
    "p = Path('.')\n",
    "for file in p.glob('*.csv'):\n",
    "    print(file)"
   ]
  },
  {
   "cell_type": "markdown",
   "id": "cb9067a4",
   "metadata": {},
   "source": [
    "🔮 Part 2: Serialization – Turning Objects into Spells\n",
    "(Saving Python objects to files and back!)"
   ]
  },
  {
   "cell_type": "code",
   "execution_count": 4,
   "id": "7d230bbe",
   "metadata": {},
   "outputs": [
    {
     "name": "stdout",
     "output_type": "stream",
     "text": [
      "🧙 Merlin knows ['Fireball', 'Teleport']\n"
     ]
    }
   ],
   "source": [
    "import json\n",
    "\n",
    "wizard = {\n",
    "    \"name\": \"Merlin\",\n",
    "    \"spells\": [\"Fireball\", \"Teleport\"],\n",
    "    \"level\": 99\n",
    "}\n",
    "\n",
    "# Save to JSON\n",
    "with open(\"wizard.json\", \"w\") as f:\n",
    "    json.dump(wizard, f)\n",
    "\n",
    "# Load from JSON\n",
    "with open(\"wizard.json\") as f:\n",
    "    loaded_wizard = json.load(f)\n",
    "\n",
    "print(f\"🧙 {loaded_wizard['name']} knows {loaded_wizard['spells']}\")"
   ]
  },
  {
   "cell_type": "markdown",
   "id": "e1cc626c",
   "metadata": {},
   "source": [
    "Pickle (Python-Only Spells)"
   ]
  },
  {
   "cell_type": "code",
   "execution_count": 5,
   "id": "e1d718f7",
   "metadata": {},
   "outputs": [
    {
     "name": "stdout",
     "output_type": "stream",
     "text": [
      "🧪 Healing potion: Restores HP\n"
     ]
    }
   ],
   "source": [
    "import pickle\n",
    "\n",
    "class Potion:\n",
    "    def __init__(self, name, effect):\n",
    "        self.name = name\n",
    "        self.effect = effect\n",
    "\n",
    "healing_potion = Potion(\"Healing\", \"Restores HP\")\n",
    "\n",
    "# Save to pickle\n",
    "with open(\"potion.pkl\", \"wb\") as f:\n",
    "    pickle.dump(healing_potion, f)\n",
    "\n",
    "# Load from pickle\n",
    "with open(\"potion.pkl\", \"rb\") as f:\n",
    "    loaded_potion = pickle.load(f)\n",
    "\n",
    "print(f\"🧪 {loaded_potion.name} potion: {loaded_potion.effect}\")"
   ]
  },
  {
   "cell_type": "code",
   "execution_count": 6,
   "id": "c4dcf899",
   "metadata": {},
   "outputs": [
    {
     "name": "stdout",
     "output_type": "stream",
     "text": [
      "📖 Fireball (Power: 50)\n",
      "📖 Ice Shard (Power: 30)\n"
     ]
    }
   ],
   "source": [
    "import yaml\n",
    "\n",
    "spellbook = \"\"\"\n",
    "- spell: Fireball\n",
    "  power: 50\n",
    "- spell: Ice Shard\n",
    "  power: 30\n",
    "\"\"\"\n",
    "\n",
    "# Load YAML\n",
    "data = yaml.safe_load(spellbook)\n",
    "for spell in data:\n",
    "    print(f\"📖 {spell['spell']} (Power: {spell['power']})\")"
   ]
  },
  {
   "cell_type": "markdown",
   "id": "cc52dfbc",
   "metadata": {},
   "source": [
    "✅ What they learned:\n",
    "\n",
    "Use pickle for saving Python objects (not readable by humans)\n",
    "Use json for sharing data across languages\n",
    "Use yaml when you want something easy to read and edit manually"
   ]
  },
  {
   "cell_type": "code",
   "execution_count": 2,
   "id": "a62ade9b",
   "metadata": {},
   "outputs": [
    {
     "name": "stdout",
     "output_type": "stream",
     "text": [
      "🔮 Waiting for a message...\n",
      "📩 Received: Hello from the client!\n"
     ]
    }
   ],
   "source": [
    "import socket\n",
    "\n",
    "# Create a portal (socket)\n",
    "server = socket.socket(socket.AF_INET, socket.SOCK_STREAM)\n",
    "server.bind((\"localhost\", 12345))  # Listen on port 12345\n",
    "server.listen(1)  # Wait for a connection\n",
    "\n",
    "print(\"🔮 Waiting for a message...\")\n",
    "conn, addr = server.accept()  # Someone connected!\n",
    "message = conn.recv(1024).decode()  # Read the message\n",
    "print(f\"📩 Received: {message}\")\n",
    "conn.close()"
   ]
  }
 ],
 "metadata": {
  "kernelspec": {
   "display_name": "venv",
   "language": "python",
   "name": "python3"
  },
  "language_info": {
   "codemirror_mode": {
    "name": "ipython",
    "version": 3
   },
   "file_extension": ".py",
   "mimetype": "text/x-python",
   "name": "python",
   "nbconvert_exporter": "python",
   "pygments_lexer": "ipython3",
   "version": "3.10.16"
  }
 },
 "nbformat": 4,
 "nbformat_minor": 5
}
