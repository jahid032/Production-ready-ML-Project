{
 "cells": [
  {
   "cell_type": "markdown",
   "id": "18f36ab6",
   "metadata": {},
   "source": [
    "🎯 What is a Pure Function?\n",
    "A pure function always gives the same output for the same input and doesn’t change anything outside itself "
   ]
  },
  {
   "cell_type": "code",
   "execution_count": 1,
   "id": "b62c46b4",
   "metadata": {},
   "outputs": [
    {
     "name": "stdout",
     "output_type": "stream",
     "text": [
      "5\n"
     ]
    }
   ],
   "source": [
    "def add(a, b):\n",
    "    return a + b\n",
    "\n",
    "print(add(2, 3))  # Always returns 5"
   ]
  },
  {
   "cell_type": "markdown",
   "id": "84555e29",
   "metadata": {},
   "source": [
    "🗝️ What is Immutability?\n",
    "Some things in Python (like numbers, strings, and tuples) cannot be changed once created — they're like unbreakable locks.\n",
    "\n",
    "If you want to change them, you have to make a new one."
   ]
  },
  {
   "cell_type": "code",
   "execution_count": 2,
   "id": "7e75de5d",
   "metadata": {},
   "outputs": [
    {
     "name": "stdout",
     "output_type": "stream",
     "text": [
      "Alice\n",
      "ALICE\n"
     ]
    }
   ],
   "source": [
    "name = \"Alice\"\n",
    "new_name = name.upper()  # Makes a new string\n",
    "\n",
    "print(name)      # Still \"Alice\"\n",
    "print(new_name)  # Now \"ALICE\""
   ]
  },
  {
   "cell_type": "markdown",
   "id": "9c3e566e",
   "metadata": {},
   "source": [
    "3: map, filter, reduce – The Super Trio\n",
    "These three friends help process lists easily without loops."
   ]
  },
  {
   "cell_type": "markdown",
   "id": "6059e7ee",
   "metadata": {},
   "source": [
    "📡 map() – Apply Spell to All\n",
    "Like casting a spell on every item in a list."
   ]
  },
  {
   "cell_type": "code",
   "execution_count": 3,
   "id": "3cff057a",
   "metadata": {},
   "outputs": [
    {
     "name": "stdout",
     "output_type": "stream",
     "text": [
      "[1, 4, 9, 16]\n"
     ]
    }
   ],
   "source": [
    "numbers = [1, 2, 3, 4]\n",
    "squared = list(map(lambda x: x * x, numbers))\n",
    "\n",
    "print(squared)  # [1, 4, 9, 16]"
   ]
  },
  {
   "cell_type": "markdown",
   "id": "240b1726",
   "metadata": {},
   "source": [
    "filter() – Only the Chosen Ones"
   ]
  },
  {
   "cell_type": "code",
   "execution_count": 5,
   "id": "7054f91a",
   "metadata": {},
   "outputs": [
    {
     "name": "stdout",
     "output_type": "stream",
     "text": [
      "[18, 20, 30]\n"
     ]
    }
   ],
   "source": [
    "ages = [12, 18, 20, 15, 30]\n",
    "adults = list(filter(lambda age: age >= 18, ages))\n",
    "\n",
    "print(adults)  # [18, 20, 30]"
   ]
  },
  {
   "cell_type": "markdown",
   "id": "7d4fde14",
   "metadata": {},
   "source": [
    "🧮 reduce() – Combine All Into One\n",
    "Used to combine all items into one result (needs to be imported)."
   ]
  },
  {
   "cell_type": "code",
   "execution_count": 6,
   "id": "b23374c9",
   "metadata": {},
   "outputs": [
    {
     "name": "stdout",
     "output_type": "stream",
     "text": [
      "60\n"
     ]
    }
   ],
   "source": [
    "from functools import reduce\n",
    "\n",
    "scores = [10, 20, 30]\n",
    "total = reduce(lambda a, b: a + b, scores)\n",
    "\n",
    "print(total)  # 60"
   ]
  },
  {
   "cell_type": "code",
   "execution_count": 7,
   "id": "beb49022",
   "metadata": {},
   "outputs": [
    {
     "name": "stdout",
     "output_type": "stream",
     "text": [
      "10\n"
     ]
    }
   ],
   "source": [
    "double = lambda x: x * 2\n",
    "print(double(5))  # 10"
   ]
  },
  {
   "cell_type": "code",
   "execution_count": 8,
   "id": "4cc76816",
   "metadata": {},
   "outputs": [
    {
     "name": "stdout",
     "output_type": "stream",
     "text": [
      "[0, 1, 4, 9, 16]\n"
     ]
    }
   ],
   "source": [
    "squares = [x * x for x in range(5)]\n",
    "print(squares)  # [0, 1, 4, 9, 16]"
   ]
  },
  {
   "cell_type": "code",
   "execution_count": 9,
   "id": "0bc4f15e",
   "metadata": {},
   "outputs": [
    {
     "name": "stdout",
     "output_type": "stream",
     "text": [
      "{'Alice': 5, 'Bob': 3, 'Charlie': 7}\n"
     ]
    }
   ],
   "source": [
    "names = [\"Alice\", \"Bob\", \"Charlie\"]\n",
    "name_lengths = {name: len(name) for name in names}\n",
    "\n",
    "print(name_lengths)\n",
    "# {'Alice': 5, 'Bob': 3, 'Charlie': 7}"
   ]
  },
  {
   "cell_type": "markdown",
   "id": "7e792015",
   "metadata": {},
   "source": [
    "🧰 toolz Library – Extra Powers (Optional but Cool!)\n",
    "The toolz library gives you tools like:\n",
    "\n",
    "pipe() – Chain operations like building blocks.\n",
    "curry() – Like partial, but cooler."
   ]
  },
  {
   "cell_type": "code",
   "execution_count": 10,
   "id": "0ac7aac2",
   "metadata": {},
   "outputs": [
    {
     "name": "stdout",
     "output_type": "stream",
     "text": [
      "Collecting toolz\n",
      "  Downloading toolz-1.0.0-py3-none-any.whl.metadata (5.1 kB)\n",
      "Downloading toolz-1.0.0-py3-none-any.whl (56 kB)\n",
      "Installing collected packages: toolz\n",
      "Successfully installed toolz-1.0.0\n",
      "Note: you may need to restart the kernel to use updated packages.\n"
     ]
    }
   ],
   "source": [
    "pip install toolz"
   ]
  },
  {
   "cell_type": "code",
   "execution_count": 5,
   "id": "d314a393",
   "metadata": {},
   "outputs": [
    {
     "name": "stdout",
     "output_type": "stream",
     "text": [
      "[0, 4, 16, 36, 64]\n"
     ]
    }
   ],
   "source": [
    "from toolz import pipe\n",
    "import toolz.curried as tz  # Use curried versions safely\n",
    "\n",
    "result = pipe(\n",
    "    range(10),\n",
    "    tz.filter(lambda x: x % 2 == 0),\n",
    "    tz.map(lambda x: x * x),\n",
    "    list\n",
    ")\n",
    "\n",
    "print(result)  # Output: [0, 4, 16, 36, 64]\n"
   ]
  },
  {
   "cell_type": "code",
   "execution_count": null,
   "id": "7781f8a2",
   "metadata": {},
   "outputs": [],
   "source": [
    "from functools import reduce\n",
    "\n",
    "reduce(function, iterable, initial_value)  # initial_value is optional , function must take 2 arguments\n"
   ]
  },
  {
   "cell_type": "code",
   "execution_count": 6,
   "id": "1dad068d",
   "metadata": {},
   "outputs": [
    {
     "name": "stdout",
     "output_type": "stream",
     "text": [
      "15\n"
     ]
    }
   ],
   "source": [
    "from functools import reduce\n",
    "\n",
    "# Add two numbers\n",
    "def add(x, y):\n",
    "    return x + y\n",
    "\n",
    "numbers = [1, 2, 3, 4, 5]\n",
    "\n",
    "result = reduce(add, numbers)\n",
    "\n",
    "print(result)  # Output: 15\n"
   ]
  },
  {
   "cell_type": "code",
   "execution_count": 7,
   "id": "e84916a4",
   "metadata": {},
   "outputs": [
    {
     "name": "stdout",
     "output_type": "stream",
     "text": [
      "24\n"
     ]
    }
   ],
   "source": [
    "from functools import reduce\n",
    "\n",
    "nums = [2, 3, 4]\n",
    "\n",
    "result = reduce(lambda x, y: x * y, nums)\n",
    "\n",
    "print(result)  # Output: 24\n"
   ]
  },
  {
   "cell_type": "code",
   "execution_count": 8,
   "id": "b58d2b54",
   "metadata": {},
   "outputs": [
    {
     "name": "stdout",
     "output_type": "stream",
     "text": [
      "16\n"
     ]
    }
   ],
   "source": [
    "from functools import reduce\n",
    "\n",
    "nums = [1, 2, 3]\n",
    "result = reduce(lambda x, y: x + y, nums, 10)\n",
    "\n",
    "print(result)  # Output: 16\n"
   ]
  }
 ],
 "metadata": {
  "kernelspec": {
   "display_name": "venv",
   "language": "python",
   "name": "python3"
  },
  "language_info": {
   "codemirror_mode": {
    "name": "ipython",
    "version": 3
   },
   "file_extension": ".py",
   "mimetype": "text/x-python",
   "name": "python",
   "nbconvert_exporter": "python",
   "pygments_lexer": "ipython3",
   "version": "3.10.16"
  }
 },
 "nbformat": 4,
 "nbformat_minor": 5
}
