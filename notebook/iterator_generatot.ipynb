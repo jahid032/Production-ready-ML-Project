{
 "cells": [
  {
   "cell_type": "code",
   "execution_count": 1,
   "id": "702616c2",
   "metadata": {},
   "outputs": [
    {
     "name": "stdout",
     "output_type": "stream",
     "text": [
      "🍎 Apple\n",
      "🍌 Banana\n",
      "🍒 Cherry\n"
     ]
    }
   ],
   "source": [
    "# A list of fruits\n",
    "fruits = [\"🍎 Apple\", \"🍌 Banana\", \"🍒 Cherry\"]\n",
    "\n",
    "# Make it an iterator\n",
    "fruit_iter = iter(fruits)\n",
    "\n",
    "# Get one fruit at a time\n",
    "print(next(fruit_iter))  # 🍎 Apple\n",
    "print(next(fruit_iter))  # 🍌 Banana\n",
    "print(next(fruit_iter))  # 🍒 Cherry"
   ]
  },
  {
   "cell_type": "code",
   "execution_count": 2,
   "id": "dab69e32",
   "metadata": {},
   "outputs": [
    {
     "name": "stdout",
     "output_type": "stream",
     "text": [
      "1\n",
      "2\n",
      "3\n",
      "4\n",
      "5\n"
     ]
    }
   ],
   "source": [
    "class CountUp:\n",
    "    def __init__(self, start, end):\n",
    "        self.current = start\n",
    "        self.end = end\n",
    "\n",
    "    def __iter__(self):\n",
    "        return self\n",
    "\n",
    "    def __next__(self):\n",
    "        if self.current > self.end:\n",
    "            raise StopIteration\n",
    "        else:\n",
    "            num = self.current\n",
    "            self.current += 1\n",
    "            return num\n",
    "\n",
    "# Use the iterator\n",
    "for number in CountUp(1, 5):\n",
    "    print(number)"
   ]
  },
  {
   "cell_type": "markdown",
   "id": "3c185831",
   "metadata": {},
   "source": [
    "🎁 Chapter 3: Generators – The Magic Box That Yields\n",
    "A generator is like a magic box that gives you values on demand , using yield.\n",
    "\n",
    "🔮 Why use yield?\n",
    "Because it doesn’t load everything at once — just gives one value at a time"
   ]
  },
  {
   "cell_type": "code",
   "execution_count": 3,
   "id": "7e7735fe",
   "metadata": {},
   "outputs": [
    {
     "name": "stdout",
     "output_type": "stream",
     "text": [
      "1\n",
      "2\n",
      "3\n",
      "4\n",
      "5\n"
     ]
    }
   ],
   "source": [
    "def count_up_generator(start, end):\n",
    "    current = start\n",
    "    while current <= end:\n",
    "        yield current\n",
    "        current += 1\n",
    "\n",
    "# Use the generator\n",
    "for number in count_up_generator(1, 5):\n",
    "    print(number)"
   ]
  },
  {
   "cell_type": "markdown",
   "id": "a4ca02c0",
   "metadata": {},
   "source": [
    "yield from – Delegating to Another Generator\n",
    "Sometimes, one generator wants to pass work to another generator — like handing off a task."
   ]
  },
  {
   "cell_type": "code",
   "execution_count": 4,
   "id": "209c7636",
   "metadata": {},
   "outputs": [
    {
     "name": "stdout",
     "output_type": "stream",
     "text": [
      "🍎 Apple\n",
      "🍌 Banana\n",
      "🥕 Carrot\n",
      "🥬 Lettuce\n"
     ]
    }
   ],
   "source": [
    "def fruits():\n",
    "    yield \"🍎 Apple\"\n",
    "    yield \"🍌 Banana\"\n",
    "\n",
    "def veggies():\n",
    "    yield \"🥕 Carrot\"\n",
    "    yield \"🥬 Lettuce\"\n",
    "\n",
    "def groceries():\n",
    "    yield from fruits()\n",
    "    yield from veggies()\n",
    "\n",
    "# Use the combined generator\n",
    "for item in groceries():\n",
    "    print(item)"
   ]
  },
  {
   "cell_type": "markdown",
   "id": "aa579bec",
   "metadata": {},
   "source": [
    "💡 Chapter 5: Generator Expressions – Quick Magic\n",
    "You can write short, fast generators using generator expressions , similar to list comprehensions — but with parentheses."
   ]
  },
  {
   "cell_type": "code",
   "execution_count": 5,
   "id": "8fff0f42",
   "metadata": {},
   "outputs": [
    {
     "name": "stdout",
     "output_type": "stream",
     "text": [
      "0\n",
      "1\n",
      "4\n",
      "9\n",
      "16\n",
      "25\n",
      "36\n",
      "49\n",
      "64\n",
      "81\n"
     ]
    }
   ],
   "source": [
    "# List (stores all in memory)\n",
    "squares_list = [x*x for x in range(10)]\n",
    "\n",
    "# Generator (gives one at a time)\n",
    "squares_gen = (x*x for x in range(10))\n",
    "\n",
    "# Print from generator\n",
    "for square in squares_gen:\n",
    "    print(square)"
   ]
  },
  {
   "cell_type": "markdown",
   "id": "934ec21f",
   "metadata": {},
   "source": [
    "The itertools Module – Supercharged Too"
   ]
  },
  {
   "cell_type": "code",
   "execution_count": 6,
   "id": "3edd236d",
   "metadata": {},
   "outputs": [
    {
     "name": "stdout",
     "output_type": "stream",
     "text": [
      "1\n",
      "2\n",
      "3\n",
      "4\n",
      "5\n"
     ]
    }
   ],
   "source": [
    "from itertools import count\n",
    "\n",
    "for i in count(1):  # starts from 1 forever!\n",
    "    print(i)\n",
    "    if i >= 5:\n",
    "        break"
   ]
  },
  {
   "cell_type": "markdown",
   "id": "74d2a916",
   "metadata": {},
   "source": [
    "itertools.cycle() – Repeat Forever"
   ]
  },
  {
   "cell_type": "markdown",
   "id": "e87f1084",
   "metadata": {},
   "source": [
    "from itertools import cycle\n",
    "\n",
    "colors = [\"red\", \"green\", \"blue\"]\n",
    "for color in cycle(colors):\n",
    "    print(color)\n",
    "    if some_condition:  # You'd need to break manually\n",
    "        break"
   ]
  },
  {
   "cell_type": "code",
   "execution_count": 8,
   "id": "01bff289",
   "metadata": {},
   "outputs": [
    {
     "name": "stdout",
     "output_type": "stream",
     "text": [
      "🍫 Chocolate\n",
      "🍋 Lemon\n",
      "🍬 Vanilla\n"
     ]
    }
   ],
   "source": [
    "from itertools import islice\n",
    "\n",
    "# Our big cake list 🍰\n",
    "flavors = [\"🍓 Strawberry\", \"🍫 Chocolate\", \"🍋 Lemon\", \"🍬 Vanilla\", \"🥭 Mango\"]\n",
    "\n",
    "# Take middle slices: from index 1 to 3 (doesn't include index 4)\n",
    "some_flavors = islice(flavors, 1, 4)\n",
    "\n",
    "for flavor in some_flavors:\n",
    "    print(flavor)"
   ]
  }
 ],
 "metadata": {
  "kernelspec": {
   "display_name": "venv",
   "language": "python",
   "name": "python3"
  },
  "language_info": {
   "codemirror_mode": {
    "name": "ipython",
    "version": 3
   },
   "file_extension": ".py",
   "mimetype": "text/x-python",
   "name": "python",
   "nbconvert_exporter": "python",
   "pygments_lexer": "ipython3",
   "version": "3.10.16"
  }
 },
 "nbformat": 4,
 "nbformat_minor": 5
}
