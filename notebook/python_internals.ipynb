{
 "cells": [
  {
   "cell_type": "markdown",
   "id": "7031ffdf",
   "metadata": {},
   "source": [
    "1. 🧮 Reference Counting"
   ]
  },
  {
   "cell_type": "code",
   "execution_count": 1,
   "id": "53353b1e",
   "metadata": {},
   "outputs": [
    {
     "name": "stdout",
     "output_type": "stream",
     "text": [
      "Ref count: 3\n"
     ]
    }
   ],
   "source": [
    "import sys\n",
    "\n",
    "# Create an object\n",
    "magic_hat = \"Abracadabra\"\n",
    "\n",
    "# Count references to it\n",
    "print(\"Ref count:\", sys.getrefcount(magic_hat))  # Usually >1 due to temp references\n"
   ]
  },
  {
   "cell_type": "markdown",
   "id": "19152edc",
   "metadata": {},
   "source": [
    "2. 👻 Garbage Collection"
   ]
  },
  {
   "cell_type": "code",
   "execution_count": 2,
   "id": "b8ba65fc",
   "metadata": {},
   "outputs": [
    {
     "name": "stdout",
     "output_type": "stream",
     "text": [
      "Spell vanished by the Ghost Collector!\n"
     ]
    }
   ],
   "source": [
    "import gc\n",
    "\n",
    "class Spell:\n",
    "    def __del__(self):\n",
    "        print(\"Spell vanished by the Ghost Collector!\")\n",
    "\n",
    "def cast_spell():\n",
    "    s = Spell()\n",
    "\n",
    "cast_spell()  # After function ends, `s` is gone, collector will delete it\n"
   ]
  },
  {
   "cell_type": "markdown",
   "id": "feb8c5bc",
   "metadata": {},
   "source": [
    "When the spell is over and nobody remembers it, a ghost quietly makes it disappear."
   ]
  },
  {
   "cell_type": "markdown",
   "id": "41d20481",
   "metadata": {},
   "source": [
    "3. 🗡️ Global Interpreter Lock (GIL)"
   ]
  },
  {
   "cell_type": "code",
   "execution_count": 3,
   "id": "a6498878",
   "metadata": {},
   "outputs": [
    {
     "name": "stdout",
     "output_type": "stream",
     "text": [
      "Final count: 2000\n"
     ]
    }
   ],
   "source": [
    "import threading\n",
    "\n",
    "count = 0\n",
    "\n",
    "def do_magic():\n",
    "    global count\n",
    "    for _ in range(1000):\n",
    "        count += 1\n",
    "\n",
    "t1 = threading.Thread(target=do_magic)\n",
    "t2 = threading.Thread(target=do_magic)\n",
    "\n",
    "t1.start()\n",
    "t2.start()\n",
    "t1.join()\n",
    "t2.join()\n",
    "\n",
    "print(\"Final count:\", count)  # Not always 2,000,000 because of GIL race\n"
   ]
  },
  {
   "cell_type": "markdown",
   "id": "39b4cbb3",
   "metadata": {},
   "source": [
    "Even if two friends try to count together, only one is allowed to hold the counting stick — that’s Sir GIL making sure no one fights."
   ]
  },
  {
   "cell_type": "markdown",
   "id": "faa89e22",
   "metadata": {},
   "source": [
    "4. 📦 Bytecode"
   ]
  },
  {
   "cell_type": "code",
   "execution_count": 4,
   "id": "d4f67fe8",
   "metadata": {},
   "outputs": [
    {
     "name": "stdout",
     "output_type": "stream",
     "text": [
      "  2           0 LOAD_CONST               1 ('Hello!')\n",
      "              2 RETURN_VALUE\n"
     ]
    }
   ],
   "source": [
    "def greet():\n",
    "    return \"Hello!\"\n",
    "\n",
    "import dis\n",
    "dis.dis(greet)\n"
   ]
  },
  {
   "cell_type": "markdown",
   "id": "85aed714",
   "metadata": {},
   "source": [
    " 🧠 CPython Interpreter\n",
    " CPython is the main royal wizard that interprets the bytecode. You don’t need to write anything for this — if you’re using Python downloaded from python.org, you’re using CPython."
   ]
  },
  {
   "cell_type": "code",
   "execution_count": 5,
   "id": "2e82dcd6",
   "metadata": {},
   "outputs": [
    {
     "name": "stdout",
     "output_type": "stream",
     "text": [
      "🏰 Welcome to PyLand Memory School\n",
      "References to hat: 4\n",
      "Old Spell has been removed from memory.\n",
      "Total with GIL: 2000000\n",
      " 37           0 LOAD_CONST               1 ('Spark!')\n",
      "              2 RETURN_VALUE\n"
     ]
    }
   ],
   "source": [
    "import sys\n",
    "import gc\n",
    "import threading\n",
    "import dis\n",
    "\n",
    "class MemoryBox:\n",
    "    def __init__(self, name):\n",
    "        self.name = name\n",
    "    def __del__(self):\n",
    "        print(f\"{self.name} has been removed from memory.\")\n",
    "\n",
    "def count_refs():\n",
    "    hat = \"WizardHat\"\n",
    "    print(\"References to hat:\", sys.getrefcount(hat))\n",
    "\n",
    "def run_gc():\n",
    "    spell = MemoryBox(\"Old Spell\")\n",
    "\n",
    "def gil_demo():\n",
    "    global total\n",
    "    total = 0\n",
    "    def inc():\n",
    "        global total\n",
    "        for _ in range(1000000):\n",
    "            total += 1\n",
    "\n",
    "    t1 = threading.Thread(target=inc)\n",
    "    t2 = threading.Thread(target=inc)\n",
    "    t1.start()\n",
    "    t2.start()\n",
    "    t1.join()\n",
    "    t2.join()\n",
    "    print(\"Total with GIL:\", total)\n",
    "\n",
    "def see_bytecode():\n",
    "    def magic():\n",
    "        return \"Spark!\"\n",
    "    dis.dis(magic)\n",
    "\n",
    "print(\"🏰 Welcome to PyLand Memory School\")\n",
    "count_refs()\n",
    "run_gc()\n",
    "gil_demo()\n",
    "see_bytecode()\n"
   ]
  }
 ],
 "metadata": {
  "kernelspec": {
   "display_name": "venv",
   "language": "python",
   "name": "python3"
  },
  "language_info": {
   "codemirror_mode": {
    "name": "ipython",
    "version": 3
   },
   "file_extension": ".py",
   "mimetype": "text/x-python",
   "name": "python",
   "nbconvert_exporter": "python",
   "pygments_lexer": "ipython3",
   "version": "3.10.16"
  }
 },
 "nbformat": 4,
 "nbformat_minor": 5
}
